{
  "nbformat": 4,
  "nbformat_minor": 0,
  "metadata": {
    "colab": {
      "provenance": []
    },
    "kernelspec": {
      "name": "python3",
      "display_name": "Python 3"
    },
    "language_info": {
      "name": "python"
    }
  },
  "cells": [
    {
      "cell_type": "code",
      "source": [
        "# === Install Packages ===\n",
        "import numpy as np\n",
        "import matplotlib.pyplot as plt\n",
        "import random\n",
        "import time\n",
        "from IPython.display import clear_output"
      ],
      "metadata": {
        "id": "NX7ZD38eeUlC"
      },
      "execution_count": 1,
      "outputs": []
    },
    {
      "cell_type": "code",
      "source": [
        "# === Define a Board ===\n",
        "SIZE = 4  # Board Size\n",
        "data = np.zeros((SIZE+2, SIZE+2), dtype=int)\n",
        "for y in range(SIZE+2):\n",
        "    for x in range(SIZE+2):\n",
        "        if x == 0 or x == SIZE+1 or y == 0 or y == SIZE+1:\n",
        "            data[y][x] = 6  # Sentinel\n",
        "\n",
        "# Initial Ink Positions（11=red, 22=blue, 33=green）\n",
        "inks = {(2,2): 11, (2,4): 22, (3,3): 33}\n",
        "for (y, x), v in inks.items():\n",
        "    data[y][x] = v\n",
        "\n",
        "# Initial Player Settings\n",
        "px, py = 2, 3\n",
        "player_color = 0 # No color\n",
        "\n",
        "# Target\n",
        "target_scores = {'red': 10, 'blue': 2, 'green': 4}\n",
        "scores = {'red':0, 'blue':0, 'green':0}"
      ],
      "metadata": {
        "id": "azE5WycjMMZp"
      },
      "execution_count": 2,
      "outputs": []
    },
    {
      "cell_type": "code",
      "source": [
        "# === Draw a Board ===\n",
        "def draw_board(data, px, py):\n",
        "    clear_output(wait=True)\n",
        "    fig, ax = plt.subplots(figsize=(SIZE, SIZE))\n",
        "    ax.set_xlim(0, SIZE)\n",
        "    ax.set_ylim(0, SIZE)\n",
        "    ax.set_xticks([])\n",
        "    ax.set_yticks([])\n",
        "    ax.set_aspect(\"equal\")\n",
        "\n",
        "    # Grid\n",
        "    for x in range(SIZE + 1):\n",
        "        ax.plot([x, x], [0, SIZE], color=\"black\")\n",
        "    for y in range(SIZE + 1):\n",
        "        ax.plot([0, SIZE], [y, y], color=\"black\")\n",
        "\n",
        "    # Each Tile\n",
        "    for y in range(1, SIZE+1):\n",
        "        for x in range(1, SIZE+1):\n",
        "            val = data[y][x]\n",
        "            if val == 1 or val == 11:\n",
        "                color = \"#ff5252\"  # red\n",
        "            elif val == 2 or val == 22:\n",
        "                color = \"#7192f5\"  # blue\n",
        "            elif val == 3 or val == 33:\n",
        "                color = \"#30cf8a\"  # green\n",
        "            else:\n",
        "                color = \"white\"\n",
        "            if val in (1, 2, 3): # Filled\n",
        "                ax.add_patch(plt.Rectangle((x-1, SIZE-y), 1, 1, color=color))\n",
        "            elif val in (11, 22, 33): # Inks\n",
        "                ax.add_patch(plt.Circle((x-0.5, SIZE-y+0.5), 0.2, color=color))\n",
        "\n",
        "    # Player\n",
        "    ax.plot([px-0.5], [SIZE-py+0.5], marker=\"s\", color='black', markerfacecolor=\"none\", markersize=20)\n",
        "\n",
        "    plt.show()\n",
        "\n",
        "# Initial Board\n",
        "draw_board(data, px, py)"
      ],
      "metadata": {
        "colab": {
          "base_uri": "https://localhost:8080/",
          "height": 345
        },
        "id": "6Il6HpFgMVaH",
        "outputId": "65713657-7057-4a93-d999-3ab9ab4963c6"
      },
      "execution_count": 3,
      "outputs": [
        {
          "output_type": "display_data",
          "data": {
            "text/plain": [
              "<Figure size 400x400 with 1 Axes>"
            ],
            "image/png": "[encoded data removed]"
          },
          "metadata": {}
        }
      ]
    },
    {
      "cell_type": "code",
      "source": [
        "# Get Possible Movement Directions\n",
        "def get_possible_moves(data, px, py, player_color):\n",
        "    directions = {\n",
        "        \"up\": (0, -1),\n",
        "        \"right\": (1, 0),\n",
        "        \"down\": (0, 1),\n",
        "        \"left\": (-1, 0)\n",
        "    }\n",
        "    moves = []\n",
        "    for name, (dx, dy) in directions.items():\n",
        "        nx, ny = px + dx, py + dy\n",
        "        cell = data[ny][nx]\n",
        "        if cell == 6:  # Sentinel\n",
        "            continue\n",
        "        # Cannot move to the other colors\n",
        "        if cell > 0 and cell not in (11, 22, 33) and cell != player_color:\n",
        "            continue\n",
        "        moves.append((name, dx, dy))\n",
        "    return moves\n",
        "\n",
        "# Whether all tiles are filled\n",
        "def all_tiles_colored(data):\n",
        "    # Disclude sentinels\n",
        "    for y in range(1, SIZE + 1):\n",
        "        for x in range(1, SIZE + 1):\n",
        "            if data[y][x] == 0:\n",
        "                return False\n",
        "    return True\n",
        "\n",
        "# Judge if clearable\n",
        "def can_fill_more(data, player_color):\n",
        "    \"\"\"Is able to fill anymore tiles\"\"\"\n",
        "    directions = [(0,-1), (0,1), (-1,0), (1,0)]\n",
        "    for y in range(1, SIZE+1):\n",
        "        for x in range(1, SIZE+1):\n",
        "            if data[y][x] != player_color:\n",
        "                continue\n",
        "            for dx, dy in directions:\n",
        "                nx, ny = x + dx, y + dy\n",
        "                if data[ny][nx] == 6:\n",
        "                    continue\n",
        "                if data[ny][nx] in (0, 11, 22, 33):\n",
        "                    return True\n",
        "    return False\n",
        "\n",
        "def is_color_enough(scores, target_scores, player_color):\n",
        "    \"\"\"Is scores enough to reach target scores\"\"\"\n",
        "    if scores['red'] >= 1 and scores['red'] < target_scores['red'] and player_color != 1:\n",
        "        return False\n",
        "    if scores['blue'] >= 1 and scores['blue'] < target_scores['blue'] and player_color != 2:\n",
        "        return False\n",
        "    if scores['green'] >= 1 and scores['green'] < target_scores['green'] and player_color != 3:\n",
        "        return False\n",
        "    return True"
      ],
      "metadata": {
        "id": "Uf9A5GebehzX"
      },
      "execution_count": 4,
      "outputs": []
    },
    {
      "cell_type": "code",
      "source": [
        "# === Random Play ===\n",
        "def random_play(data, px, py, player_color, delay=0.3):\n",
        "    step = 0\n",
        "    while True:\n",
        "        # Update Scores\n",
        "        scores['red'] = np.sum(data == 1)\n",
        "        scores['blue'] = np.sum(data == 2)\n",
        "        scores['green'] = np.sum(data == 3)\n",
        "\n",
        "        if all_tiles_colored(data):\n",
        "            print(\"All Tiles are Filled. Cleared.\")\n",
        "            break\n",
        "        if not can_fill_more(data, player_color) or not is_color_enough(scores, target_scores, player_color) or scores['red'] > target_scores['red'] or scores['blue'] > target_scores['blue'] or scores['green'] > target_scores['green']:\n",
        "            print(\"Game Over.\")\n",
        "            break\n",
        "\n",
        "        moves = get_possible_moves(data, px, py, player_color)\n",
        "        _, dx, dy = random.choice(moves)\n",
        "        nx, ny = px + dx, py + dy\n",
        "        cell = data[ny][nx]\n",
        "\n",
        "        # move\n",
        "        px, py = nx, ny\n",
        "\n",
        "        # Get Inks\n",
        "        if cell == 11:\n",
        "            player_color = 1\n",
        "        elif cell == 22:\n",
        "            player_color = 2\n",
        "        elif cell == 33:\n",
        "            player_color = 3\n",
        "\n",
        "        # Fill the tiles\n",
        "        if player_color > 0:\n",
        "            data[py][px] = player_color\n",
        "            step += 1\n",
        "\n",
        "        draw_board(data, px, py)\n",
        "        print(f\"Step: {step}\")\n",
        "        time.sleep(delay)\n",
        "\n",
        "    return data\n",
        "\n",
        "# Execution\n",
        "data_copy = data.copy()\n",
        "final_state = random_play(data_copy, px, py, player_color, delay=0.5)"
      ],
      "metadata": {
        "colab": {
          "base_uri": "https://localhost:8080/",
          "height": 382
        },
        "id": "AgwahNumR3fU",
        "outputId": "eb9fd05f-72cd-4f8a-97e9-68744a924cce"
      },
      "execution_count": 5,
      "outputs": [
        {
          "output_type": "display_data",
          "data": {
            "text/plain": [
              "<Figure size 400x400 with 1 Axes>"
            ],
            "image/png": "[encoded data removed]"
          },
          "metadata": {}
        },
        {
          "output_type": "stream",
          "name": "stdout",
          "text": [
            "Step: 11\n",
            "Game Over.\n"
          ]
        }
      ]
    }
  ]
}